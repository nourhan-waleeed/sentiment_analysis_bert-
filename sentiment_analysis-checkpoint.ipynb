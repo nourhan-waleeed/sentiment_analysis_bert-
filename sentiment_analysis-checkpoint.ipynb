{
 "cells": [
  {
   "cell_type": "code",
   "execution_count": 1,
   "id": "d3e95711",
   "metadata": {},
   "outputs": [
    {
     "name": "stdout",
     "output_type": "stream",
     "text": [
      "^C\n"
     ]
    }
   ],
   "source": [
    "#!pip install torch torchvision torchaudio --index-url https://download.pytorch.org/whl/cu118\n"
   ]
  },
  {
   "cell_type": "markdown",
   "id": "577265ac",
   "metadata": {},
   "source": [
    "# install dep\n",
    "### transformers: for download nlp model\n",
    "### requests: to scrap data in this example from yelp\n",
    "### beatifulsoup: extract the data that we need"
   ]
  },
  {
   "cell_type": "code",
   "execution_count": 3,
   "id": "3f612858",
   "metadata": {},
   "outputs": [
    {
     "name": "stdout",
     "output_type": "stream",
     "text": [
      "Requirement already satisfied: transformers in c:\\users\\nourh\\anaconda3\\lib\\site-packages (4.32.1)\n",
      "Requirement already satisfied: requests in c:\\users\\nourh\\anaconda3\\lib\\site-packages (2.31.0)\n",
      "Requirement already satisfied: beautifulsoup4 in c:\\users\\nourh\\anaconda3\\lib\\site-packages (4.12.2)\n",
      "Requirement already satisfied: pandas in c:\\users\\nourh\\anaconda3\\lib\\site-packages (2.1.1)\n",
      "Requirement already satisfied: numpy in c:\\users\\nourh\\anaconda3\\lib\\site-packages (1.24.3)\n",
      "Requirement already satisfied: filelock in c:\\users\\nourh\\anaconda3\\lib\\site-packages (from transformers) (3.9.0)\n",
      "Requirement already satisfied: huggingface-hub<1.0,>=0.15.1 in c:\\users\\nourh\\anaconda3\\lib\\site-packages (from transformers) (0.17.3)\n",
      "Requirement already satisfied: packaging>=20.0 in c:\\users\\nourh\\anaconda3\\lib\\site-packages (from transformers) (23.1)\n",
      "Requirement already satisfied: pyyaml>=5.1 in c:\\users\\nourh\\anaconda3\\lib\\site-packages (from transformers) (6.0.1)\n",
      "Requirement already satisfied: regex!=2019.12.17 in c:\\users\\nourh\\anaconda3\\lib\\site-packages (from transformers) (2023.10.3)\n",
      "Requirement already satisfied: tokenizers!=0.11.3,<0.14,>=0.11.1 in c:\\users\\nourh\\anaconda3\\lib\\site-packages (from transformers) (0.13.3)\n",
      "Requirement already satisfied: safetensors>=0.3.1 in c:\\users\\nourh\\anaconda3\\lib\\site-packages (from transformers) (0.4.0)\n",
      "Requirement already satisfied: tqdm>=4.27 in c:\\users\\nourh\\anaconda3\\lib\\site-packages (from transformers) (4.65.0)\n",
      "Requirement already satisfied: charset-normalizer<4,>=2 in c:\\users\\nourh\\anaconda3\\lib\\site-packages (from requests) (2.0.4)\n",
      "Requirement already satisfied: idna<4,>=2.5 in c:\\users\\nourh\\anaconda3\\lib\\site-packages (from requests) (3.4)\n",
      "Requirement already satisfied: urllib3<3,>=1.21.1 in c:\\users\\nourh\\anaconda3\\lib\\site-packages (from requests) (1.26.16)\n",
      "Requirement already satisfied: certifi>=2017.4.17 in c:\\users\\nourh\\anaconda3\\lib\\site-packages (from requests) (2023.7.22)\n",
      "Requirement already satisfied: soupsieve>1.2 in c:\\users\\nourh\\anaconda3\\lib\\site-packages (from beautifulsoup4) (2.5)\n",
      "Requirement already satisfied: python-dateutil>=2.8.2 in c:\\users\\nourh\\anaconda3\\lib\\site-packages (from pandas) (2.8.2)\n",
      "Requirement already satisfied: pytz>=2020.1 in c:\\users\\nourh\\anaconda3\\lib\\site-packages (from pandas) (2023.3.post1)\n",
      "Requirement already satisfied: tzdata>=2022.1 in c:\\users\\nourh\\anaconda3\\lib\\site-packages (from pandas) (2023.3)\n",
      "Requirement already satisfied: fsspec in c:\\users\\nourh\\anaconda3\\lib\\site-packages (from huggingface-hub<1.0,>=0.15.1->transformers) (2023.4.0)\n",
      "Requirement already satisfied: typing-extensions>=3.7.4.3 in c:\\users\\nourh\\anaconda3\\lib\\site-packages (from huggingface-hub<1.0,>=0.15.1->transformers) (4.7.1)\n",
      "Requirement already satisfied: six>=1.5 in c:\\users\\nourh\\anaconda3\\lib\\site-packages (from python-dateutil>=2.8.2->pandas) (1.16.0)\n",
      "Requirement already satisfied: colorama in c:\\users\\nourh\\anaconda3\\lib\\site-packages (from tqdm>=4.27->transformers) (0.4.6)\n"
     ]
    }
   ],
   "source": [
    "#!pip install transformers requests beautifulsoup4 pandas numpy"
   ]
  },
  {
   "cell_type": "code",
   "execution_count": 5,
   "id": "05ffaf1e",
   "metadata": {},
   "outputs": [],
   "source": [
    "from transformers import AutoTokenizer, AutoModelForSequenceClassification\n",
    "import torch\n",
    "import requests\n",
    "from bs4 import BeautifulSoup\n",
    "import re\n",
    "import pandas as pd \n",
    "import numpy as np"
   ]
  },
  {
   "cell_type": "code",
   "execution_count": 7,
   "id": "f24da240",
   "metadata": {},
   "outputs": [],
   "source": [
    "from transformers import AutoTokenizer, AutoModelForSequenceClassification\n",
    "\n",
    "tokenizer = AutoTokenizer.from_pretrained('nlptown/bert-base-multilingual-uncased-sentiment')\n",
    "model = AutoModelForSequenceClassification.from_pretrained('nlptown/bert-base-multilingual-uncased-sentiment')\n"
   ]
  },
  {
   "cell_type": "code",
   "execution_count": 8,
   "id": "553f5041",
   "metadata": {},
   "outputs": [],
   "source": [
    "#tokenizer = AutoTokenizer.from_pretrained('nlptown/#for decoding tokenizer.decode(token[0])bert-base-multilingual-uncased-sentiment')"
   ]
  },
  {
   "cell_type": "code",
   "execution_count": 9,
   "id": "a591ce4d",
   "metadata": {},
   "outputs": [],
   "source": [
    "from transformers import AutoTokenizer, AutoModelForSequenceClassification\n",
    "\n",
    "tokenizer = AutoTokenizer.from_pretrained('nlptown/bert-base-multilingual-uncased-sentiment')\n",
    "model = AutoModelForSequenceClassification.from_pretrained('nlptown/bert-base-multilingual-uncased-sentiment')\n"
   ]
  },
  {
   "cell_type": "markdown",
   "id": "ce34fee1",
   "metadata": {},
   "source": [
    "# bad review"
   ]
  },
  {
   "cell_type": "code",
   "execution_count": 10,
   "id": "1ebe1156",
   "metadata": {},
   "outputs": [],
   "source": [
    "#for encoding\n",
    "token = tokenizer.encode('I hate it', return_tensors='pt')"
   ]
  },
  {
   "cell_type": "code",
   "execution_count": 11,
   "id": "a5dad636",
   "metadata": {},
   "outputs": [
    {
     "name": "stdout",
     "output_type": "stream",
     "text": [
      "WARNING:tensorflow:From C:\\Users\\nourh\\anaconda3\\Lib\\site-packages\\keras\\src\\losses.py:2976: The name tf.losses.sparse_softmax_cross_entropy is deprecated. Please use tf.compat.v1.losses.sparse_softmax_cross_entropy instead.\n",
      "\n"
     ]
    },
    {
     "data": {
      "text/plain": [
       "'[CLS] i hate it [SEP]'"
      ]
     },
     "execution_count": 11,
     "metadata": {},
     "output_type": "execute_result"
    }
   ],
   "source": [
    "#for decoding\n",
    "tokenizer.decode(token[0])"
   ]
  },
  {
   "cell_type": "markdown",
   "id": "10ae1c4a",
   "metadata": {},
   "source": [
    "# bert transformer gives a rate from 1 to 5 \n",
    "## 1 is the worst "
   ]
  },
  {
   "cell_type": "code",
   "execution_count": 12,
   "id": "3b3fb514",
   "metadata": {},
   "outputs": [
    {
     "data": {
      "text/plain": [
       "1"
      ]
     },
     "execution_count": 12,
     "metadata": {},
     "output_type": "execute_result"
    }
   ],
   "source": [
    "result = model(token)\n",
    "int(torch.argmax(result.logits))+1"
   ]
  },
  {
   "cell_type": "markdown",
   "id": "ba77912c",
   "metadata": {},
   "source": [
    "# Great review"
   ]
  },
  {
   "cell_type": "code",
   "execution_count": 13,
   "id": "59aceb7c",
   "metadata": {},
   "outputs": [],
   "source": [
    "token = tokenizer.encode('I love it', return_tensors='pt')"
   ]
  },
  {
   "cell_type": "code",
   "execution_count": 14,
   "id": "395d90ee",
   "metadata": {},
   "outputs": [
    {
     "data": {
      "text/plain": [
       "'[CLS] i love it [SEP]'"
      ]
     },
     "execution_count": 14,
     "metadata": {},
     "output_type": "execute_result"
    }
   ],
   "source": [
    "#for decoding\n",
    "tokenizer.decode(token[0])"
   ]
  },
  {
   "cell_type": "code",
   "execution_count": 15,
   "id": "8655abe6",
   "metadata": {},
   "outputs": [
    {
     "data": {
      "text/plain": [
       "SequenceClassifierOutput(loss=None, logits=tensor([[-2.2622, -2.3372, -0.6374,  1.3711,  3.1505]],\n",
       "       grad_fn=<AddmmBackward0>), hidden_states=None, attentions=None)"
      ]
     },
     "execution_count": 15,
     "metadata": {},
     "output_type": "execute_result"
    }
   ],
   "source": [
    "result = model(token)\n",
    "result"
   ]
  },
  {
   "cell_type": "code",
   "execution_count": 16,
   "id": "5fb8d3be",
   "metadata": {},
   "outputs": [
    {
     "data": {
      "text/plain": [
       "5"
      ]
     },
     "execution_count": 16,
     "metadata": {},
     "output_type": "execute_result"
    }
   ],
   "source": [
    "int(torch.argmax(result.logits))+1"
   ]
  },
  {
   "cell_type": "markdown",
   "id": "a5456bd9",
   "metadata": {},
   "source": [
    "# Average review"
   ]
  },
  {
   "cell_type": "code",
   "execution_count": 17,
   "id": "42ba80d8",
   "metadata": {},
   "outputs": [],
   "source": [
    "token = tokenizer.encode('I did not like it that much' ,return_tensors='pt')"
   ]
  },
  {
   "cell_type": "code",
   "execution_count": 18,
   "id": "a8173023",
   "metadata": {},
   "outputs": [
    {
     "data": {
      "text/plain": [
       "SequenceClassifierOutput(loss=None, logits=tensor([[ 0.9182,  2.2037,  1.7478, -1.1296, -3.0483]],\n",
       "       grad_fn=<AddmmBackward0>), hidden_states=None, attentions=None)"
      ]
     },
     "execution_count": 18,
     "metadata": {},
     "output_type": "execute_result"
    }
   ],
   "source": [
    "result = model(token)\n",
    "result"
   ]
  },
  {
   "cell_type": "code",
   "execution_count": 19,
   "id": "b48d28f2",
   "metadata": {},
   "outputs": [
    {
     "data": {
      "text/plain": [
       "2"
      ]
     },
     "execution_count": 19,
     "metadata": {},
     "output_type": "execute_result"
    }
   ],
   "source": [
    "int(torch.argmax(result.logits))+1"
   ]
  },
  {
   "cell_type": "markdown",
   "id": "7bc5703f",
   "metadata": {},
   "source": [
    "# Web scraping\n",
    "## from yelp.com to scrap some reviews on the pawn shop in san francisco and rate them from 1 to 5 to get an average of the satisfaction of the customers\n"
   ]
  },
  {
   "cell_type": "markdown",
   "id": "82e3d8d5",
   "metadata": {},
   "source": [
    "### Sentiment analysis on the pawn shop san francisco"
   ]
  },
  {
   "cell_type": "code",
   "execution_count": 20,
   "id": "304ba61e",
   "metadata": {},
   "outputs": [],
   "source": [
    "#collect reviews\n",
    "r= requests.get('https://www.yelp.com/biz/the-pawn-shop-san-francisco')\n",
    "soup = BeautifulSoup(r.text, 'html.parser')\n",
    "regex = re.compile('.*comment.*')\n",
    "results = soup.find_all('p', {'class':regex})\n",
    "reviews1 = [result.text for result in results]"
   ]
  },
  {
   "cell_type": "code",
   "execution_count": 21,
   "id": "b2fabee2",
   "metadata": {
    "scrolled": false
   },
   "outputs": [],
   "source": [
    "r = requests.get('https://www.yelp.com/biz/the-pawn-shop-san-francisco?start=10')\n",
    "soup = BeautifulSoup(r.text, 'html.parser')\n",
    "regex = re.compile('.*comment.*')\n",
    "results = soup.find_all('p', {'class':regex})\n",
    "reviews2 = [result.text for result in results]"
   ]
  },
  {
   "cell_type": "code",
   "execution_count": 22,
   "id": "5a38e9a3",
   "metadata": {},
   "outputs": [
    {
     "data": {
      "text/plain": [
       "[\"Really cool dinner n drinks spot that is filled with surprises. It's super popular so make reservations ahead on yelp. The host will ask what you've brought in, and we gave him a small keychain and a ring that he was satisfied with. Then he'll work his magic on the entrance to let you in. We were seated next to the front of the bar , on a couch and felt it was not too loud and good for people watching.The standouts for food was the churros , to my surprise, they were made fresh in house and the dark chocolate dip that was decadent but not too sweet was to die for. It was surprisingly similar to the ones I've had in Mexico. Most disappoint item was the Brussels sprouts salad, it was a bit limp and the vinegarette or sauce they used was over done, don't recommend it. For drinks they are STRONG. We got the uno and quarto, both very good. Our favorite part was at the end of the meal, being escorted to the bar next door,Monarch. No cover fee and we were quite satisfied with our meal n drinks.For visiting friends I would take them here just for the novelty of the experience.\",\n",
       " \"Love the restaurant concept -- it's a pawn shop in the front, so you have to bring an item to pawn (they actually take it from you, so don't bring anything you care about). The guy working at the front of the pawn shop is so funny -- he deserves a raise! The food itself is really tasty -- it's a modern take on Spanish tapas. My favorite dishes were the cauliflower and the steak. Didn't plan on getting dessert, but we got the pecan tart just for fun and it was yummy, so no regrets there.Don't know if the music is always like this or if we went at a special time, but it was SO loud and almost impossible to hear or talk. We were seated on the upper level too, which was further away from the music, so I can't imagine sitting downstairs and being able to have any conversation at all. But the vibe inside is amazing -- it would be a great place to celebrate a birthday or go to get drinks and dance!\",\n",
       " 'This place is a gem hidden in SOMA. This is the playfulness SF needs!The drinks are great great! The food, in my opinion left a bit to be desired if I\\'m being honest, but overall, the vibes are excellent! My favorite beverage out of what I tried was the \"uno\". Crisp and refreshing! The staff was also  very kind and very attentive. Don\\'t forget to bring a goody to pawn!',\n",
       " \"Such a great vibe! They were having a yelp event and I was a solo traveler. The owner escorted me to the bar where the bartender took great care of me. I'll definitely return.\",\n",
       " \"I really like the concept of this speakeasy. You give them an item, and they give you one back + escort you into the hidden room. I actually gave them like...4 items (including a new pair of earphones)...because it's not like I have any use for them, and I got back a popping toy thingy. I didn't know what exactly to bring, but the person seemed happy with the first lanyard I handed anyway. The security guard + pawn clerk were both amazing. They definitely were crucial in this speakeasy experience. I hope they get a share of the tips. The security guy helped us take video of our entrance experience - he was a great cameraman, which allowed us to be fully immersed with the clerk's performance/interaction. The inside of the speakeasy was brighter than expected, but that was fine. The tapas style food was good and filled us up. Patatas Bravas - the potatoes were great, but I love potatoes, so...I'm biased. Cheese Plate - decent. I don't like the bread they used, but it's okay. Pulpo a la Plancha - this was so good, but it's just one piece of octopus, so you'll have to cut it smaller if you'd like to share. Pinchos de Pollo - good, but not memorable As for the drinks, I went with the cocktails. I don't remember which one I chose, but it was one of the recommended ones from the waitress and it was great. My friend got one with orange in there, and it was too orange-y for me.\",\n",
       " \"I LOVE taking out-of-towners here.  I don't tell them where I'm taking them so it's always a fun little surprise when they realize it's a speakeasy.Like any other speakeasy, this place is not recognizable as a speakeasy unless you know about it.  The person at the front also doesn't give anything away. The restaurant has a really nice ambiance -- one time, after a Dreamforce event, we were able to stop by with 20 people in tow and take up the standing area. The food is delicious too - you can't really go wrong with anything on the menu.Alcohol-wise: they only serve beer, wine, and non-spirit based alcohols. Someone mentioned that you can pay an extra fee to gain entrance to Monarch SF (next door) via a secret door from the Pawn Shop.  I've never tried this but it's on my list!\",\n",
       " 'Loved this speakeasy! Bring something to pawn, or a joke :) the attendant at the front or \"pawn shop owner\" definitely plays the part, and lets you into the immersive bar in character. Tapa style food and good drinks! Nice bartenders and a cozy, intimate vibe - good for a date or small group of friends! Be sure to make a reservation first.',\n",
       " \"A line in front tends to detract from the speakeasy vibe, especially in this case. The front entry was well executed and the person at the counter was completely on character.Inside, the vibe didn't feel consistently maintained - food, service, and drink was great, though. Tip: if you're eating, ask to not be seated in the lounge area. The low tables really don't work for food.\",\n",
       " \"Super cute speakeasy that definitely looks like a pawn shop from the outside and when you walk in. My husband booked the reservation as a surprise and I had no idea what to expect! When we walked in, the person at the front asked what we had brought the pawn shop. What? My husband said he hadn't read the whole reservation instructions and was given an array of options to satisfy the requirement for entry- he put on a fierce break dance rendition and got us into glad I married a good dancer!We sat upstairs and had a great view of the whole place from the balcony. Drinks and food were yummy and service was perfectly balanced. My favorite part of the evening was when Gloria Estefan came on and everyone broke out in dance. This is my kind of place!\",\n",
       " 'The Pawn Shop is a one of a kind speakeasy for all your adventurous foodie friends. Be sure to make a reservation ahead of time and have a joke to tell or unique trinket to pawn for entry! (one joke/trinket per party)Located in the Tenderloin and with only late dinner reservations available, I definitely recommend Ubering/lyfting with your party to avoid having to walk or park in the area. Make sure to look for the red \"MONEY LOANED\" sign, since there is no other signage (and it really does look like a pawn shop)After a fantastical show from the pawn master/host, you\\'re transported into a lively tapas restaurant and bar filled with birthday celebrations, music, and wonderful service. It\\'s an awesome place to introduce to anyone and chow down on small bites like patatas bravas, cheese plates, skewers, and wine! Have fun!']"
      ]
     },
     "execution_count": 22,
     "metadata": {},
     "output_type": "execute_result"
    }
   ],
   "source": [
    "reviews2"
   ]
  },
  {
   "cell_type": "markdown",
   "id": "72667f24",
   "metadata": {},
   "source": [
    "# load reviews into dataframe and get the sentiment score"
   ]
  },
  {
   "cell_type": "code",
   "execution_count": 23,
   "id": "1d551686",
   "metadata": {},
   "outputs": [],
   "source": [
    "df1 = pd.DataFrame(np.array(reviews1), columns=['review'])\n",
    "df2 = pd.DataFrame(np.array(reviews2),columns=['review'])"
   ]
  },
  {
   "cell_type": "code",
   "execution_count": 24,
   "id": "be9c84c2",
   "metadata": {},
   "outputs": [
    {
     "data": {
      "text/html": [
       "<div>\n",
       "<style scoped>\n",
       "    .dataframe tbody tr th:only-of-type {\n",
       "        vertical-align: middle;\n",
       "    }\n",
       "\n",
       "    .dataframe tbody tr th {\n",
       "        vertical-align: top;\n",
       "    }\n",
       "\n",
       "    .dataframe thead th {\n",
       "        text-align: right;\n",
       "    }\n",
       "</style>\n",
       "<table border=\"1\" class=\"dataframe\">\n",
       "  <thead>\n",
       "    <tr style=\"text-align: right;\">\n",
       "      <th></th>\n",
       "      <th>review</th>\n",
       "    </tr>\n",
       "  </thead>\n",
       "  <tbody>\n",
       "    <tr>\n",
       "      <th>0</th>\n",
       "      <td>Stumbled upon this bar that's  part thrift sto...</td>\n",
       "    </tr>\n",
       "    <tr>\n",
       "      <th>1</th>\n",
       "      <td>Super fun hangout spot in SF; from the outside...</td>\n",
       "    </tr>\n",
       "    <tr>\n",
       "      <th>2</th>\n",
       "      <td>This place is super cool, unique, and fun. I m...</td>\n",
       "    </tr>\n",
       "    <tr>\n",
       "      <th>3</th>\n",
       "      <td>The current reviews don't capture the magic ha...</td>\n",
       "    </tr>\n",
       "    <tr>\n",
       "      <th>4</th>\n",
       "      <td>This place is more than a dinner, it's a whole...</td>\n",
       "    </tr>\n",
       "    <tr>\n",
       "      <th>5</th>\n",
       "      <td>What a fun night at a unique place! We lined u...</td>\n",
       "    </tr>\n",
       "    <tr>\n",
       "      <th>6</th>\n",
       "      <td>If you like tapas and wine, this is the spot f...</td>\n",
       "    </tr>\n",
       "    <tr>\n",
       "      <th>7</th>\n",
       "      <td>The Pawn Shop was one of my favorite restauran...</td>\n",
       "    </tr>\n",
       "    <tr>\n",
       "      <th>8</th>\n",
       "      <td>Super interesting and fun experience! You brin...</td>\n",
       "    </tr>\n",
       "    <tr>\n",
       "      <th>9</th>\n",
       "      <td>The store front is a pawn shop full of eclecti...</td>\n",
       "    </tr>\n",
       "  </tbody>\n",
       "</table>\n",
       "</div>"
      ],
      "text/plain": [
       "                                              review\n",
       "0  Stumbled upon this bar that's  part thrift sto...\n",
       "1  Super fun hangout spot in SF; from the outside...\n",
       "2  This place is super cool, unique, and fun. I m...\n",
       "3  The current reviews don't capture the magic ha...\n",
       "4  This place is more than a dinner, it's a whole...\n",
       "5  What a fun night at a unique place! We lined u...\n",
       "6  If you like tapas and wine, this is the spot f...\n",
       "7  The Pawn Shop was one of my favorite restauran...\n",
       "8  Super interesting and fun experience! You brin...\n",
       "9  The store front is a pawn shop full of eclecti..."
      ]
     },
     "execution_count": 24,
     "metadata": {},
     "output_type": "execute_result"
    }
   ],
   "source": [
    "df1"
   ]
  },
  {
   "cell_type": "code",
   "execution_count": 25,
   "id": "6ca045d4",
   "metadata": {
    "scrolled": true
   },
   "outputs": [],
   "source": [
    "df = pd.concat([df1,df2])"
   ]
  },
  {
   "cell_type": "code",
   "execution_count": 28,
   "id": "75936deb",
   "metadata": {},
   "outputs": [],
   "source": [
    "df.reset_index(inplace=True)"
   ]
  },
  {
   "cell_type": "code",
   "execution_count": 32,
   "id": "f37a6bcd",
   "metadata": {},
   "outputs": [],
   "source": [
    "def sentiment_analysis(review):\n",
    "    tokens = tokenizer.encode(review, return_tensors='pt')\n",
    "    result = model(tokens)\n",
    "    return int(torch.argmax(result.logits))+1"
   ]
  },
  {
   "cell_type": "code",
   "execution_count": 33,
   "id": "3804dc15",
   "metadata": {},
   "outputs": [],
   "source": [
    "df['sentiment_score']= df['review'].apply(lambda x: sentiment_analysis(x[:512]))"
   ]
  },
  {
   "cell_type": "code",
   "execution_count": 34,
   "id": "59f01535",
   "metadata": {},
   "outputs": [
    {
     "data": {
      "text/html": [
       "<div>\n",
       "<style scoped>\n",
       "    .dataframe tbody tr th:only-of-type {\n",
       "        vertical-align: middle;\n",
       "    }\n",
       "\n",
       "    .dataframe tbody tr th {\n",
       "        vertical-align: top;\n",
       "    }\n",
       "\n",
       "    .dataframe thead th {\n",
       "        text-align: right;\n",
       "    }\n",
       "</style>\n",
       "<table border=\"1\" class=\"dataframe\">\n",
       "  <thead>\n",
       "    <tr style=\"text-align: right;\">\n",
       "      <th></th>\n",
       "      <th>index</th>\n",
       "      <th>review</th>\n",
       "      <th>sentiment_score</th>\n",
       "    </tr>\n",
       "  </thead>\n",
       "  <tbody>\n",
       "    <tr>\n",
       "      <th>0</th>\n",
       "      <td>0</td>\n",
       "      <td>Stumbled upon this bar that's  part thrift sto...</td>\n",
       "      <td>5</td>\n",
       "    </tr>\n",
       "    <tr>\n",
       "      <th>1</th>\n",
       "      <td>1</td>\n",
       "      <td>Super fun hangout spot in SF; from the outside...</td>\n",
       "      <td>4</td>\n",
       "    </tr>\n",
       "    <tr>\n",
       "      <th>2</th>\n",
       "      <td>2</td>\n",
       "      <td>This place is super cool, unique, and fun. I m...</td>\n",
       "      <td>4</td>\n",
       "    </tr>\n",
       "    <tr>\n",
       "      <th>3</th>\n",
       "      <td>3</td>\n",
       "      <td>The current reviews don't capture the magic ha...</td>\n",
       "      <td>3</td>\n",
       "    </tr>\n",
       "    <tr>\n",
       "      <th>4</th>\n",
       "      <td>4</td>\n",
       "      <td>This place is more than a dinner, it's a whole...</td>\n",
       "      <td>4</td>\n",
       "    </tr>\n",
       "    <tr>\n",
       "      <th>5</th>\n",
       "      <td>5</td>\n",
       "      <td>What a fun night at a unique place! We lined u...</td>\n",
       "      <td>5</td>\n",
       "    </tr>\n",
       "    <tr>\n",
       "      <th>6</th>\n",
       "      <td>6</td>\n",
       "      <td>If you like tapas and wine, this is the spot f...</td>\n",
       "      <td>4</td>\n",
       "    </tr>\n",
       "    <tr>\n",
       "      <th>7</th>\n",
       "      <td>7</td>\n",
       "      <td>The Pawn Shop was one of my favorite restauran...</td>\n",
       "      <td>4</td>\n",
       "    </tr>\n",
       "    <tr>\n",
       "      <th>8</th>\n",
       "      <td>8</td>\n",
       "      <td>Super interesting and fun experience! You brin...</td>\n",
       "      <td>5</td>\n",
       "    </tr>\n",
       "    <tr>\n",
       "      <th>9</th>\n",
       "      <td>9</td>\n",
       "      <td>The store front is a pawn shop full of eclecti...</td>\n",
       "      <td>4</td>\n",
       "    </tr>\n",
       "    <tr>\n",
       "      <th>10</th>\n",
       "      <td>0</td>\n",
       "      <td>Really cool dinner n drinks spot that is fille...</td>\n",
       "      <td>5</td>\n",
       "    </tr>\n",
       "    <tr>\n",
       "      <th>11</th>\n",
       "      <td>1</td>\n",
       "      <td>Love the restaurant concept -- it's a pawn sho...</td>\n",
       "      <td>5</td>\n",
       "    </tr>\n",
       "    <tr>\n",
       "      <th>12</th>\n",
       "      <td>2</td>\n",
       "      <td>This place is a gem hidden in SOMA. This is th...</td>\n",
       "      <td>5</td>\n",
       "    </tr>\n",
       "    <tr>\n",
       "      <th>13</th>\n",
       "      <td>3</td>\n",
       "      <td>Such a great vibe! They were having a yelp eve...</td>\n",
       "      <td>5</td>\n",
       "    </tr>\n",
       "    <tr>\n",
       "      <th>14</th>\n",
       "      <td>4</td>\n",
       "      <td>I really like the concept of this speakeasy. Y...</td>\n",
       "      <td>4</td>\n",
       "    </tr>\n",
       "    <tr>\n",
       "      <th>15</th>\n",
       "      <td>5</td>\n",
       "      <td>I LOVE taking out-of-towners here.  I don't te...</td>\n",
       "      <td>4</td>\n",
       "    </tr>\n",
       "    <tr>\n",
       "      <th>16</th>\n",
       "      <td>6</td>\n",
       "      <td>Loved this speakeasy! Bring something to pawn,...</td>\n",
       "      <td>5</td>\n",
       "    </tr>\n",
       "    <tr>\n",
       "      <th>17</th>\n",
       "      <td>7</td>\n",
       "      <td>A line in front tends to detract from the spea...</td>\n",
       "      <td>3</td>\n",
       "    </tr>\n",
       "    <tr>\n",
       "      <th>18</th>\n",
       "      <td>8</td>\n",
       "      <td>Super cute speakeasy that definitely looks lik...</td>\n",
       "      <td>5</td>\n",
       "    </tr>\n",
       "    <tr>\n",
       "      <th>19</th>\n",
       "      <td>9</td>\n",
       "      <td>The Pawn Shop is a one of a kind speakeasy for...</td>\n",
       "      <td>4</td>\n",
       "    </tr>\n",
       "  </tbody>\n",
       "</table>\n",
       "</div>"
      ],
      "text/plain": [
       "    index                                             review  sentiment_score\n",
       "0       0  Stumbled upon this bar that's  part thrift sto...                5\n",
       "1       1  Super fun hangout spot in SF; from the outside...                4\n",
       "2       2  This place is super cool, unique, and fun. I m...                4\n",
       "3       3  The current reviews don't capture the magic ha...                3\n",
       "4       4  This place is more than a dinner, it's a whole...                4\n",
       "5       5  What a fun night at a unique place! We lined u...                5\n",
       "6       6  If you like tapas and wine, this is the spot f...                4\n",
       "7       7  The Pawn Shop was one of my favorite restauran...                4\n",
       "8       8  Super interesting and fun experience! You brin...                5\n",
       "9       9  The store front is a pawn shop full of eclecti...                4\n",
       "10      0  Really cool dinner n drinks spot that is fille...                5\n",
       "11      1  Love the restaurant concept -- it's a pawn sho...                5\n",
       "12      2  This place is a gem hidden in SOMA. This is th...                5\n",
       "13      3  Such a great vibe! They were having a yelp eve...                5\n",
       "14      4  I really like the concept of this speakeasy. Y...                4\n",
       "15      5  I LOVE taking out-of-towners here.  I don't te...                4\n",
       "16      6  Loved this speakeasy! Bring something to pawn,...                5\n",
       "17      7  A line in front tends to detract from the spea...                3\n",
       "18      8  Super cute speakeasy that definitely looks lik...                5\n",
       "19      9  The Pawn Shop is a one of a kind speakeasy for...                4"
      ]
     },
     "execution_count": 34,
     "metadata": {},
     "output_type": "execute_result"
    }
   ],
   "source": [
    "df"
   ]
  },
  {
   "cell_type": "code",
   "execution_count": 37,
   "id": "93e460d3",
   "metadata": {},
   "outputs": [
    {
     "data": {
      "text/plain": [
       "count    20.00000\n",
       "mean      4.35000\n",
       "std       0.67082\n",
       "min       3.00000\n",
       "25%       4.00000\n",
       "50%       4.00000\n",
       "75%       5.00000\n",
       "max       5.00000\n",
       "Name: sentiment_score, dtype: float64"
      ]
     },
     "execution_count": 37,
     "metadata": {},
     "output_type": "execute_result"
    }
   ],
   "source": [
    "df['sentiment_score'].describe()"
   ]
  }
 ],
 "metadata": {
  "kernelspec": {
   "display_name": "Python 3 (ipykernel)",
   "language": "python",
   "name": "python3"
  },
  "language_info": {
   "codemirror_mode": {
    "name": "ipython",
    "version": 3
   },
   "file_extension": ".py",
   "mimetype": "text/x-python",
   "name": "python",
   "nbconvert_exporter": "python",
   "pygments_lexer": "ipython3",
   "version": "3.11.5"
  }
 },
 "nbformat": 4,
 "nbformat_minor": 5
}
